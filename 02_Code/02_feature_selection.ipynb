{
 "cells": [
  {
   "cell_type": "code",
   "execution_count": 430,
   "id": "502d9c41-6178-411c-9c30-aaaf607dc575",
   "metadata": {},
   "outputs": [],
   "source": [
    "import pandas as pd"
   ]
  },
  {
   "cell_type": "code",
   "execution_count": 433,
   "id": "a5964837-81c8-4ad6-99f6-f7ae34d6591c",
   "metadata": {},
   "outputs": [
    {
     "data": {
      "text/plain": [
       "Index(['NOMBREDD', 'NOMBREPV', 'NOMBREDI', 'REGION', 'DOMINIO', 'FACTOR',\n",
       "       'P102_2', 'P204_NOM', 'P204_COD', 'P204_TIPO', 'P205_N', 'P205_TOT',\n",
       "       'P206_INI_MES', 'P206_INI_ANIO', 'P207_FIN_MES', 'P207_FIN_ANIO',\n",
       "       'P208', 'P209_MES', 'P209_ANIO', 'P210_SUP_1', 'P210_SUP_2', 'P211_1',\n",
       "       'P211_2', 'P211_3', 'P211_4', 'P211_5', 'P211_6', 'P211_7', 'P211_8',\n",
       "       'P212', 'P213', 'P217_SUP_1', 'P217_SUP_2', 'P217_SUP_ha', 'P218',\n",
       "       'P219_CANT_1', 'P219_CANT_2', 'P219_UM', 'P219_UM_COD', 'P219_EQUIV_KG',\n",
       "       'P220_1_CANT_1', 'P220_1_CANT_2', 'P220_1_PREC_1', 'P220_1_PREC_2',\n",
       "       'P220_1_VAL', 'P220_1_PRE_KG', 'P220_2_ENT', 'P220_2_DEC',\n",
       "       'P220_2_PREC_1', 'P220_2_PREC_2', 'P220_2_VAL', 'P220_2_PRE_KG',\n",
       "       'P220_3_ENT', 'P220_3_DEC', 'P220_4_ENT', 'P220_4_DEC', 'P220_5_ENT',\n",
       "       'P220_5_DEC', 'P220_6_ENT', 'P220_6_DEC', 'P220_7_ENT', 'P220_7_DEC',\n",
       "       'P220_8_ENT', 'P220_8_DEC', 'P220_9_ENT', 'P220_9_DEC', 'P220_10_ENT',\n",
       "       'P220_10_DEC', 'P222_1', 'P222_2', 'P222_3', 'P222_4', 'P222_5',\n",
       "       'P222_6', 'P222_7', 'P223_1', 'P223_2', 'P223_3', 'P223_4', 'P223_5',\n",
       "       'P223_6', 'P223B_1', 'P223B_2', 'P223B_3', 'P223B_4', 'P223B_5',\n",
       "       'P223B_6', 'P223B_7', 'P223B_8'],\n",
       "      dtype='object')"
      ]
     },
     "execution_count": 433,
     "metadata": {},
     "output_type": "execute_result"
    }
   ],
   "source": [
    "data = pd.read_csv(\"../01_Data/clean_data.csv\")\n",
    "data.columns"
   ]
  }
 ],
 "metadata": {
  "kernelspec": {
   "display_name": "Python 3 (ipykernel)",
   "language": "python",
   "name": "python3"
  },
  "language_info": {
   "codemirror_mode": {
    "name": "ipython",
    "version": 3
   },
   "file_extension": ".py",
   "mimetype": "text/x-python",
   "name": "python",
   "nbconvert_exporter": "python",
   "pygments_lexer": "ipython3",
   "version": "3.13.1"
  }
 },
 "nbformat": 4,
 "nbformat_minor": 5
}
